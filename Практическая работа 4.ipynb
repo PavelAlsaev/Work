{
 "cells": [
  {
   "cell_type": "markdown",
   "metadata": {},
   "source": [
    "## Задача 1"
   ]
  },
  {
   "cell_type": "code",
   "execution_count": 5,
   "metadata": {},
   "outputs": [
    {
     "name": "stdout",
     "output_type": "stream",
     "text": [
      "3\n",
      "9\n",
      "9\n"
     ]
    }
   ],
   "source": [
    "a = int(input())\n",
    "b = int(input())\n",
    "print((((a // b) * a) + ((b // a) * b)) // ((a // b) + (b // a)))"
   ]
  },
  {
   "cell_type": "markdown",
   "metadata": {},
   "source": [
    "## Задача 2"
   ]
  },
  {
   "cell_type": "code",
   "execution_count": 15,
   "metadata": {},
   "outputs": [
    {
     "name": "stdout",
     "output_type": "stream",
     "text": [
      "9\n",
      "12\n",
      "2\n"
     ]
    }
   ],
   "source": [
    "a = int(input())\n",
    "b = int(input())\n",
    "if a > b:\n",
    "   print(1)\n",
    "elif a < b:\n",
    "   print(2)\n",
    "else:\n",
    "   print(0) \n",
    "    "
   ]
  },
  {
   "cell_type": "markdown",
   "metadata": {},
   "source": [
    "## Задача 3"
   ]
  },
  {
   "cell_type": "code",
   "execution_count": 19,
   "metadata": {},
   "outputs": [
    {
     "name": "stdout",
     "output_type": "stream",
     "text": [
      "3\n",
      "2\n",
      "6\n",
      "6\n"
     ]
    }
   ],
   "source": [
    "a = int(input())\n",
    "b = int(input())\n",
    "c = int(input())\n",
    "if b >= a >= c:\n",
    "    print(a)\n",
    "elif a >= b >= c:\n",
    "    print(b)\n",
    "else:\n",
    "    print(c)"
   ]
  },
  {
   "cell_type": "markdown",
   "metadata": {},
   "source": [
    "## Задача 4 "
   ]
  },
  {
   "cell_type": "code",
   "execution_count": 1,
   "metadata": {},
   "outputs": [
    {
     "name": "stdout",
     "output_type": "stream",
     "text": [
      "4\n",
      "no\n"
     ]
    }
   ],
   "source": [
    "a = int(input())\n",
    "if (a % 4 == 0) and (a % 100 != 0) and (a % 400 == 0):\n",
    "    print('yes')\n",
    "else:\n",
    "    print('no')"
   ]
  },
  {
   "cell_type": "markdown",
   "metadata": {},
   "source": [
    "## Задача 5\n"
   ]
  },
  {
   "cell_type": "code",
   "execution_count": 2,
   "metadata": {},
   "outputs": [
    {
     "name": "stdout",
     "output_type": "stream",
     "text": [
      "4\n",
      "4\n",
      "5\n",
      "5\n",
      "YES\n"
     ]
    }
   ],
   "source": [
    "a=int(input())\n",
    "b=int(input())\n",
    "c=int(input())\n",
    "d=int(input())\n",
    "if a-c==1:\n",
    "    print('YES')\n",
    "elif c-a==1:\n",
    "    print('YES')\n",
    "elif b-d==1:\n",
    "    print('YES')\n",
    "elif d-b==1:\n",
    "    print('YES')\n",
    "else:\n",
    "    print('NO')"
   ]
  },
  {
   "cell_type": "markdown",
   "metadata": {},
   "source": [
    "## Задача 6"
   ]
  },
  {
   "cell_type": "code",
   "execution_count": 9,
   "metadata": {},
   "outputs": [
    {
     "name": "stdout",
     "output_type": "stream",
     "text": [
      "11\n",
      "15\n",
      "YES\n"
     ]
    }
   ],
   "source": [
    "x = int(input())\n",
    "y = int(input())\n",
    "if (x - 1) % (y - (x - 1)) == 0:\n",
    "    print('YES')\n",
    "else:\n",
    "    print('NO')"
   ]
  },
  {
   "cell_type": "markdown",
   "metadata": {},
   "source": [
    "## Задача 7"
   ]
  },
  {
   "cell_type": "code",
   "execution_count": 10,
   "metadata": {},
   "outputs": [
    {
     "name": "stdout",
     "output_type": "stream",
     "text": [
      "1\n",
      "1\n",
      "2\n",
      "2\n",
      "YES\n"
     ]
    }
   ],
   "source": [
    "x1 = int(input())\n",
    "y1 = int(input())\n",
    "x2 = int(input())\n",
    "y2 = int(input())\n",
    "if (x1 + y1 + x2 + y2) % 2 == 0:\n",
    "    print('YES')\n",
    "else:\n",
    "    print('NO')"
   ]
  },
  {
   "cell_type": "markdown",
   "metadata": {},
   "source": [
    "## Задача 8"
   ]
  },
  {
   "cell_type": "code",
   "execution_count": 12,
   "metadata": {},
   "outputs": [
    {
     "name": "stdout",
     "output_type": "stream",
     "text": [
      "4\n",
      "2\n",
      "6\n",
      "YES\n"
     ]
    }
   ],
   "source": [
    "n = int(input())\n",
    "m = int(input())\n",
    "k = int(input())\n",
    "if (n + m + k) % 2 == 0:\n",
    "    print('YES')\n",
    "else:\n",
    "    print('NO')"
   ]
  },
  {
   "cell_type": "markdown",
   "metadata": {},
   "source": [
    "## Задача 9 "
   ]
  },
  {
   "cell_type": "code",
   "execution_count": 36,
   "metadata": {},
   "outputs": [
    {
     "name": "stdout",
     "output_type": "stream",
     "text": [
      "12\n",
      "12 korov\n"
     ]
    }
   ],
   "source": [
    "n = int(input())\n",
    "if (10 < n < 20 or 5 < n % 10 < 9 or n % 10 == 0):\n",
    "    print (n, \"korov\")\n",
    "elif (n % 10 == 1):\n",
    "    print (n, \"korova\")\n",
    "else:\n",
    "    print (n, \"korovy\")"
   ]
  },
  {
   "cell_type": "markdown",
   "metadata": {},
   "source": [
    "## Задача 10"
   ]
  },
  {
   "cell_type": "code",
   "execution_count": 15,
   "metadata": {},
   "outputs": [
    {
     "name": "stdout",
     "output_type": "stream",
     "text": [
      "3\n",
      "1\n"
     ]
    }
   ],
   "source": [
    "x = int(input())\n",
    "if x > 0:\n",
    "    print(1)\n",
    "elif x == 0 :\n",
    "    print(0)\n",
    "else:\n",
    "    print(-1)"
   ]
  },
  {
   "cell_type": "markdown",
   "metadata": {},
   "source": [
    "## Задача 11 "
   ]
  },
  {
   "cell_type": "code",
   "execution_count": 16,
   "metadata": {},
   "outputs": [
    {
     "name": "stdout",
     "output_type": "stream",
     "text": [
      "3\n",
      "3\n",
      "5\n",
      "1\n",
      "YES\n"
     ]
    }
   ],
   "source": [
    "x1 = int(input())\n",
    "y1 = int(input())\n",
    "x2 = int(input())\n",
    "y2 = int(input())\n",
    "if x1 * x2 > 0 and y1 * y2 > 0:\n",
    "    print('YES')\n",
    "else:\n",
    "    print('NO')"
   ]
  },
  {
   "cell_type": "markdown",
   "metadata": {},
   "source": [
    "## Задача 12"
   ]
  },
  {
   "cell_type": "code",
   "execution_count": 18,
   "metadata": {},
   "outputs": [
    {
     "name": "stdout",
     "output_type": "stream",
     "text": [
      "1\n",
      "1\n",
      "2\n",
      "2\n",
      "YES\n"
     ]
    }
   ],
   "source": [
    "x1 = int(input())\n",
    "y1 = int(input())\n",
    "x2 = int(input())\n",
    "y2 = int(input())\n",
    "if x2 >= x1 and y2 >= y1 and (x1 + y1) % 2 == (x2 + y2) % 2:\n",
    "    print('YES')\n",
    "else:\n",
    "    print('NO')"
   ]
  },
  {
   "cell_type": "markdown",
   "metadata": {},
   "source": [
    "## Задача 13"
   ]
  },
  {
   "cell_type": "code",
   "execution_count": 19,
   "metadata": {},
   "outputs": [
    {
     "name": "stdout",
     "output_type": "stream",
     "text": [
      "3\n",
      "4\n",
      "5\n",
      "rectangular\n"
     ]
    }
   ],
   "source": [
    "a = int(input())\n",
    "b = int(input())\n",
    "c = int(input())\n",
    "if (c ** 2 == a ** 2 + b ** 2) or (a ** 2 == c ** 2 + b ** 2) or (b ** 2 == c ** 2 + a ** 2):\n",
    "    print('rectangular')\n",
    "elif (c ** 2 > a ** 2 + b ** 2) or (a ** 2 > c ** 2 + b ** 2) or (b ** 2 > c ** 2 + a ** 2):\n",
    "    print('obtuse')\n",
    "elif (c ** 2 < a ** 2 + b ** 2) or (a ** 2 < c ** 2 + b ** 2) or (b ** 2 < c ** 2 + a ** 2):\n",
    "    print('acute')\n",
    "else:\n",
    "    print('impossible')"
   ]
  },
  {
   "cell_type": "markdown",
   "metadata": {},
   "source": [
    "## Задача 14"
   ]
  },
  {
   "cell_type": "code",
   "execution_count": 23,
   "metadata": {},
   "outputs": [
    {
     "name": "stdout",
     "output_type": "stream",
     "text": [
      "7\n",
      "7\n",
      "7\n",
      "NO\n"
     ]
    }
   ],
   "source": [
    "a = int(input())\n",
    "b = int(input())\n",
    "c = int(input())\n",
    "if (a % 2 == 0 and b % 2 != 0) or (a % 2 != 0 and b % 2 == 0):\n",
    "    print(\"YES\")\n",
    "elif (a % 2 == 0 and c % 2 != 0) or (a % 2 != 0 and c % 2 == 0):\n",
    "    print(\"YES\")\n",
    "elif (b % 2 == 0 and c % 2 != 0) or (b % 2 != 0 and c % 2 == 0):\n",
    "    print(\"YES\")\n",
    "else:\n",
    "    print(\"NO\")"
   ]
  },
  {
   "cell_type": "markdown",
   "metadata": {},
   "source": [
    "## Задача 15"
   ]
  },
  {
   "cell_type": "code",
   "execution_count": 25,
   "metadata": {},
   "outputs": [
    {
     "name": "stdout",
     "output_type": "stream",
     "text": [
      "4\n",
      "2\n",
      "6\n",
      "2 4 6\n"
     ]
    }
   ],
   "source": [
    "a, b, c = int(input()), int(input()), int(input())\n",
    "if a >= b and a >= c and b >= c:\n",
    "    print(c, b, a)\n",
    "elif a <= b and a >= c and b >= c:\n",
    "    print(c, a, b)\n",
    "elif a <= b and a <= c and b <= c:\n",
    "    print(a, b, c)\n",
    "elif a >= b and a >= c and b <= c:\n",
    "    print(b, c, a)\n",
    "elif a >= b and a <= c and b <= c:\n",
    "    print(b, a, c)\n",
    "else:\n",
    "    print(a, c, b)"
   ]
  },
  {
   "cell_type": "markdown",
   "metadata": {},
   "source": [
    "## Задача 16"
   ]
  },
  {
   "cell_type": "code",
   "execution_count": 26,
   "metadata": {},
   "outputs": [
    {
     "name": "stdout",
     "output_type": "stream",
     "text": [
      "1\n",
      "2\n",
      "1\n",
      "2\n"
     ]
    }
   ],
   "source": [
    "a, b , c = int(input()), int(input()), int(input())\n",
    "if a == b == c:\n",
    "    print(3)\n",
    "elif a == b or b == c or a == c:\n",
    "    print(2)\n",
    "else:\n",
    "    print(0)"
   ]
  },
  {
   "cell_type": "markdown",
   "metadata": {},
   "source": [
    "## Задача 17"
   ]
  },
  {
   "cell_type": "code",
   "execution_count": 27,
   "metadata": {},
   "outputs": [
    {
     "name": "stdout",
     "output_type": "stream",
     "text": [
      "1\n",
      "1\n",
      "1\n",
      "1\n",
      "1\n",
      "YES\n"
     ]
    }
   ],
   "source": [
    "a = int(input())\n",
    "b = int(input())\n",
    "c = int(input())\n",
    "d = int(input())\n",
    "e = int(input())\n",
    "if a <= d and b <= e or a <= e and b <= d:\n",
    "    print(\"YES\")\n",
    "elif c <= d and b <= e or c <= e and b <= d:\n",
    "    print(\"YES\")\n",
    "elif a <= d and c <= e or a <= e and c <= d:\n",
    "    print(\"YES\")\n",
    "else:\n",
    "    print(\"NO\")"
   ]
  },
  {
   "cell_type": "markdown",
   "metadata": {},
   "source": [
    "## Задача 18"
   ]
  },
  {
   "cell_type": "code",
   "execution_count": 28,
   "metadata": {},
   "outputs": [
    {
     "name": "stdout",
     "output_type": "stream",
     "text": [
      "1\n",
      "2\n",
      "3\n",
      "3\n",
      "2\n",
      "1\n",
      "Boxes are equal\n"
     ]
    }
   ],
   "source": [
    "A1, B1, C1 = int(input()), int(input()), int(input())\n",
    "A2, B2, C2 = int(input()), int(input()), int(input())\n",
    "if ((A1 == A2 and B1 == B2 and C1 == C2) or\n",
    "        (A1 == A2 and B1 == C2 and C1 == B2) or\n",
    "        (A1 == C2 and B1 == A2 and C1 == B2) or\n",
    "        (A1 == B2 and B1 == A2 and C1 == C2) or\n",
    "        (A1 == B2 and B1 == C2 and C1 == A2) or\n",
    "        (A1 == C2 and B1 == B2 and C1 == A2)):\n",
    "    print('Boxes are equal')\n",
    "elif ((A1 <= A2 and B1 <= B2 and C1 <= C2) or\n",
    "        (A1 <= A2 and B1 <= C2 and C1 <= B2) or\n",
    "        (A1 <= C2 and B1 <= A2 and C1 <= B2) or\n",
    "        (A1 <= B2 and B1 <= A2 and C1 <= C2) or\n",
    "        (A1 <= B2 and B1 <= C2 and C1 <= A2) or\n",
    "        (A1 <= C2 and B1 <= B2 and C1 <= A2)):\n",
    "    print('The first box is smaller than the second one')\n",
    "elif ((A1 >= A2 and B1 >= B2 and C1 >= C2) or\n",
    "        (A1 >= A2 and B1 >= C2 and C1 >= B2) or\n",
    "        (A1 >= C2 and B1 >= A2 and C1 >= B2) or\n",
    "        (A1 >= B2 and B1 >= A2 and C1 >= C2) or\n",
    "        (A1 >= B2 and B1 >= C2 and C1 >= A2) or\n",
    "        (A1 >= C2 and B1 >= B2 and C1 >= A2)):\n",
    "    print('The first box is larger than the second one')\n",
    "else:\n",
    "    print('Boxes are incomparable')"
   ]
  },
  {
   "cell_type": "markdown",
   "metadata": {},
   "source": [
    "## Задача 19"
   ]
  },
  {
   "cell_type": "code",
   "execution_count": 30,
   "metadata": {},
   "outputs": [
    {
     "name": "stdout",
     "output_type": "stream",
     "text": [
      "100\n",
      "200\n",
      "300\n",
      "1\n",
      "2\n",
      "3\n",
      "1000000\n"
     ]
    }
   ],
   "source": [
    "a = int(input())\n",
    "b = int(input())\n",
    "c = int(input())\n",
    "x = int(input())\n",
    "y = int(input())\n",
    "z = int(input())\n",
    "m1 = int(a // x) * int(b // y) * int(c // z)\n",
    "m2 = int(a // x) * int(b // z) * int(c // y)\n",
    "m3 = int(a // y) * int(b // a) * int(c // z)\n",
    "m4 = int(a // y) * int(b // z) * int(c // x)\n",
    "m5 = int(a // z) * int(b // a) * int(c // y)\n",
    "m6 = int(a // z) * int(b // y) * int(c // x)\n",
    "if a >= x and b >= y and c >= z:\n",
    "    if m1 > m2 and m1 > m3 and m1 > m4 and m1 > m5 and m1 > m6:\n",
    "        print(m1)\n",
    "    elif m2 > m3 and m2 > m4 and m2 > m5 and m2 > m6:\n",
    "        print(m2)\n",
    "    elif m3 > m4 and m3 > m5 and m3 > m6:\n",
    "        print(m3)\n",
    "    elif m4 > m5 and m4 > m6:\n",
    "        print(m4)\n",
    "    elif m5 > m6:\n",
    "        print(m5)\n",
    "    else:\n",
    "        print(m6)\n",
    "else:\n",
    "    print(0)"
   ]
  },
  {
   "cell_type": "markdown",
   "metadata": {},
   "source": [
    "## Задача 20"
   ]
  },
  {
   "cell_type": "code",
   "execution_count": 33,
   "metadata": {},
   "outputs": [
    {
     "name": "stdout",
     "output_type": "stream",
     "text": [
      "2\n",
      "NO\n"
     ]
    }
   ],
   "source": [
    "k = int(input())\n",
    "if k == 3 or k == 5:\n",
    "    print('YES')\n",
    "else:\n",
    "    print('NO')"
   ]
  },
  {
   "cell_type": "markdown",
   "metadata": {},
   "source": [
    "## Задача 21"
   ]
  },
  {
   "cell_type": "code",
   "execution_count": 37,
   "metadata": {},
   "outputs": [
    {
     "name": "stdout",
     "output_type": "stream",
     "text": [
      "1\n",
      "1\n",
      "2\n",
      "2\n",
      "NO\n"
     ]
    }
   ],
   "source": [
    "\n",
    "\n",
    "a, b, c, d = int(input()), int(input()), int(input()), int(input())\n",
    "if a == 0 and b == 0:\n",
    "    print('INF')\n",
    "elif a == 0 or b * c == a * d:\n",
    "    print('NO')\n",
    "elif b % a == 0:\n",
    "    x = -b // a\n",
    "    print(x)\n",
    "else:\n",
    "    print('NO')\n",
    "\n"
   ]
  },
  {
   "cell_type": "markdown",
   "metadata": {},
   "source": [
    "## Задача 22"
   ]
  },
  {
   "cell_type": "code",
   "execution_count": 39,
   "metadata": {},
   "outputs": [
    {
     "name": "stdout",
     "output_type": "stream",
     "text": [
      "1\n",
      "5\n",
      "1\n",
      "10\n"
     ]
    }
   ],
   "source": [
    "k = int(input())\n",
    "m = int(input())\n",
    "n = int(input())\n",
    "if n<=k:\n",
    "  t = 2*m\n",
    "elif n*2 % k==0:\n",
    "  t = m*(n*2 // k)\n",
    "else:\n",
    "  t = m*(1+(n*2 // k))\n",
    "print(t)"
   ]
  },
  {
   "cell_type": "markdown",
   "metadata": {},
   "source": [
    "## Задача 23"
   ]
  },
  {
   "cell_type": "code",
   "execution_count": 40,
   "metadata": {},
   "outputs": [
    {
     "name": "stdout",
     "output_type": "stream",
     "text": [
      "0 \n",
      "2\n",
      "4\n",
      "5\n",
      "3\n",
      "6\n",
      "1\n"
     ]
    }
   ],
   "source": [
    "l1, r1 = int(input()), int(input())\n",
    "l2, r2 = int(input()), int(input())\n",
    "l3, r3 = int(input()), int(input())\n",
    " \n",
    "if (l1 >= 0) and (l1 < r1) and (r1 <= 100) and \\\n",
    "        (l2 >= 0) and (l2 < r2) and (r2 <= 100) and \\\n",
    "        (l3 >= 0) and (l3 < r3) and (r3 <= 100):\n",
    "    if ((l2 - r1) <= 1) and ((l3-r2) > 1) and (l1 < l2) and \\\n",
    "            (l2 < r3) and (l1 < r3):\n",
    "        print(3)\n",
    "    elif ((l2-r1) > 1) and ((l3-r2) > 1) and (l2-r1) <= (r3-l3):\n",
    "        print(3)\n",
    "    elif ((l2-r1) > 1) and ((l3-r2) <= 1):\n",
    "        print(1)\n",
    "    elif ((l2-r1) <= 1) and (((l3-r2) <= 1) or ((l3-r1) <= 1)):\n",
    "        print(0)\n",
    "    else:\n",
    "        print(-1)\n",
    "else:\n",
    "    print(-1)"
   ]
  },
  {
   "cell_type": "markdown",
   "metadata": {},
   "source": [
    "## Задача 24"
   ]
  },
  {
   "cell_type": "code",
   "execution_count": 41,
   "metadata": {},
   "outputs": [
    {
     "name": "stdout",
     "output_type": "stream",
     "text": [
      "2\n",
      "2\n",
      "3\n",
      "3\n",
      "3\n",
      "3\n",
      "3\n",
      "5\n",
      "3\n",
      "YES\n"
     ]
    }
   ],
   "source": [
    "l1, w1, h1, l2, w2, h2, lc, wc, hc = int(input()), int(input()), int(input()), int(input()), int(input()), int(input()), int(input()), int(input()), int(input())\n",
    "l1 = max(l1, w1)\n",
    "w1 = min(l1, w1)\n",
    "l2 = max(l2, w2)\n",
    "w2 = min(l2, w2)\n",
    "lc = max(lc, wc)\n",
    "wc = min(lc, wc)\n",
    "flag = True\n",
    "if l1 <= lc and w1 <= wc and l2 <= lc and w2 <= wc:\n",
    "    if h1 > hc or h2 > hc:\n",
    "        print(\"NO\")\n",
    "        flag = False\n",
    "    if (flag and l1 <= lc and w1 <= wc):\n",
    "        if (flag and l2 <= wc - w1 and w2 <= lc) or (flag and w2 <= wc - w1 and l2 <= lc):\n",
    "            print(\"YES\")\n",
    "            flag = False\n",
    "        elif (flag and l2 <= lc - l1 and w2<=wc) or (flag and w2 <= lc - l1 and l2<=wc):\n",
    "            print(\"YES\")\n",
    "            flag = False\n",
    "    if (flag and w1 <= lc and l1 <= wc):\n",
    "        if (flag and l2<=wc-l1 and w2<=lc) or (flag and w2<=wc-l1 and l2<=lc):\n",
    "            print(\"YES\")\n",
    "            flag = False\n",
    "        elif (flag and l2<=lc-w1 and w2<=wc) or (flag and w2<=lc-w1 and l2<=wc):\n",
    "            print(\"YES\")\n",
    "            flag = False\n",
    "    if (flag and h1+h2<=hc and l1<=lc and w1<=wc and l2<=lc and w2<=wc):\n",
    "        print(\"YES\")\n",
    "        flag = False\n",
    "    elif (flag):\n",
    "        print(\"NO\")\n",
    "else:\n",
    "    print(\"NO\")\n"
   ]
  },
  {
   "cell_type": "code",
   "execution_count": null,
   "metadata": {},
   "outputs": [],
   "source": []
  }
 ],
 "metadata": {
  "kernelspec": {
   "display_name": "Python 3",
   "language": "python",
   "name": "python3"
  },
  "language_info": {
   "codemirror_mode": {
    "name": "ipython",
    "version": 3
   },
   "file_extension": ".py",
   "mimetype": "text/x-python",
   "name": "python",
   "nbconvert_exporter": "python",
   "pygments_lexer": "ipython3",
   "version": "3.7.4"
  }
 },
 "nbformat": 4,
 "nbformat_minor": 4
}
