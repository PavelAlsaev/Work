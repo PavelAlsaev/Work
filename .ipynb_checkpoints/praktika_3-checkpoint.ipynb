{
 "cells": [
  {
   "cell_type": "code",
   "execution_count": 5,
   "metadata": {},
   "outputs": [
    {
     "name": "stdout",
     "output_type": "stream",
     "text": [
      "ещь\n",
      "Hello, ещь\n"
     ]
    }
   ],
   "source": [
    "print('Hello, ' + input())"
   ]
  },
  {
   "cell_type": "code",
   "execution_count": null,
   "metadata": {},
   "outputs": [],
   "source": [
    "pin = int(input())\n",
    "a1 = \"_~_\"\n",
    "a2 = \"(o o)\"\n",
    "a3 = \"/ V \\\"\n",
    "a4 = \"/( _ )\\\"\n",
    "a5 = \"^^ ^^\"\n",
    "print(pin * a1)\n",
    "print(pin * a2)\n",
    "print(pin * a3)\n",
    "print(pin * a4)\n",
    "print(pin * a5) "
   ]
  },
  {
   "cell_type": "code",
   "execution_count": null,
   "metadata": {},
   "outputs": [],
   "source": [
    "stud = int(input())\n",
    "apple = int(input())\n",
    "print(apple % stud)"
   ]
  },
  {
   "cell_type": "code",
   "execution_count": null,
   "metadata": {},
   "outputs": [],
   "source": [
    "stud = int(input())\n",
    "apple = int(input())\n",
    "print( - apple % stud)\n"
   ]
  },
  {
   "cell_type": "code",
   "execution_count": null,
   "metadata": {},
   "outputs": [],
   "source": []
  }
 ],
 "metadata": {
  "kernelspec": {
   "display_name": "Python 3",
   "language": "python",
   "name": "python3"
  },
  "language_info": {
   "codemirror_mode": {
    "name": "ipython",
    "version": 3
   },
   "file_extension": ".py",
   "mimetype": "text/x-python",
   "name": "python",
   "nbconvert_exporter": "python",
   "pygments_lexer": "ipython3",
   "version": "3.7.4"
  }
 },
 "nbformat": 4,
 "nbformat_minor": 4
}
