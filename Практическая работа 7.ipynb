{
 "cells": [
  {
   "cell_type": "markdown",
   "metadata": {},
   "source": [
    "## Задача 1"
   ]
  },
  {
   "cell_type": "code",
   "execution_count": 29,
   "metadata": {},
   "outputs": [
    {
     "name": "stdout",
     "output_type": "stream",
     "text": [
      "1\n",
      "2\n",
      "3\n",
      "4\n"
     ]
    },
    {
     "data": {
      "text/plain": [
       "1"
      ]
     },
     "execution_count": 29,
     "metadata": {},
     "output_type": "execute_result"
    }
   ],
   "source": [
    "def min4(a, b, c,d):\n",
    "    return min(a, b, c, d)\n",
    "a, b, c, d = int(input()), int(input()), int(input()), int(input())\n",
    "min4(a, b, c, d)"
   ]
  },
  {
   "cell_type": "markdown",
   "metadata": {},
   "source": [
    "## Задача 2"
   ]
  },
  {
   "cell_type": "code",
   "execution_count": 4,
   "metadata": {},
   "outputs": [
    {
     "name": "stdout",
     "output_type": "stream",
     "text": [
      "0\n",
      "0\n",
      "1\n",
      "1\n",
      "1.4142135623730951\n"
     ]
    }
   ],
   "source": [
    "from math import sqrt\n",
    " \n",
    "def distance(x1, y1, x2, y2):\n",
    "    return sqrt((x1 - x2) ** 2 + (y1 - y2) ** 2)\n",
    " \n",
    "x1 = float(input())\n",
    "x2 = float(input())\n",
    "y1 = float(input())\n",
    "y2 = float(input())\n",
    "print(distance(x1, x2, y1, y2))"
   ]
  },
  {
   "cell_type": "markdown",
   "metadata": {},
   "source": [
    "## Задача 3"
   ]
  },
  {
   "cell_type": "code",
   "execution_count": 23,
   "metadata": {},
   "outputs": [
    {
     "name": "stdout",
     "output_type": "stream",
     "text": [
      "0\n",
      "0\n",
      "1\n",
      "0\n",
      "0\n",
      "1\n"
     ]
    },
    {
     "data": {
      "text/plain": [
       "3.414213562373095"
      ]
     },
     "execution_count": 23,
     "metadata": {},
     "output_type": "execute_result"
    }
   ],
   "source": [
    "def IsPointInCircle (x1, y1, x2, y2, x3, y3):\n",
    "    s = 0\n",
    "    s += distance(x1, y1, x2, y2)\n",
    "    s += distance(x2, y2, x3, y3)\n",
    "    s += distance(x3, y3, x1, y1)\n",
    "    return s\n",
    "x1, y1, x2, y2, x3, y3 = float(input()), float(input()), float(input()), float(input()), float(input()), float(input())\n",
    "IsPointInCircle(x1, y1, x2, y2, x3, y3)"
   ]
  },
  {
   "cell_type": "markdown",
   "metadata": {},
   "source": [
    "## Задача 4\n"
   ]
  },
  {
   "cell_type": "code",
   "execution_count": 25,
   "metadata": {},
   "outputs": [
    {
     "name": "stdout",
     "output_type": "stream",
     "text": [
      "0\n",
      "0\n",
      "YES\n"
     ]
    }
   ],
   "source": [
    "start = 1\n",
    "end = -1\n",
    "def IsPointInSquare(x, y):\n",
    "    return (x <= start and x >= end) and (y >= end and y <= start)\n",
    "x = float(input())\n",
    "y = float(input())\n",
    "if IsPointInSquare(x, y):\n",
    "    print('YES')\n",
    "else:\n",
    "    print('NO')"
   ]
  },
  {
   "cell_type": "markdown",
   "metadata": {},
   "source": [
    "## Задача 5"
   ]
  },
  {
   "cell_type": "code",
   "execution_count": 22,
   "metadata": {},
   "outputs": [
    {
     "name": "stdout",
     "output_type": "stream",
     "text": [
      "0\n",
      "0\n",
      "YES\n"
     ]
    }
   ],
   "source": [
    "def IsPointInCircle (x, y):\n",
    "    return abs(x) + abs(y) <= 0\n",
    "    \n",
    "x = int(input())\n",
    "y = int(input())\n",
    "if IsPointInCircle(x, y):\n",
    "    print('YES')\n",
    "else:\n",
    "    print('NO')"
   ]
  },
  {
   "cell_type": "markdown",
   "metadata": {},
   "source": [
    "## Задача 6"
   ]
  },
  {
   "cell_type": "code",
   "execution_count": 1,
   "metadata": {},
   "outputs": [
    {
     "name": "stdout",
     "output_type": "stream",
     "text": [
      "0.5\n",
      "0.5\n",
      "0\n",
      "0\n",
      "1\n",
      "YES\n"
     ]
    }
   ],
   "source": [
    "def IsPointInCircle(x,y,xc,yc,r):\n",
    "    return (x - xc) * (x - xc) + (y - yc) * (y - yc) <= r * r\n",
    " \n",
    "\n",
    "x=float(input())\n",
    "y=float(input())\n",
    "xc=float(input())\n",
    "yc=float(input())\n",
    "r=float(input())\n",
    "IsPointInCircle(x,y,xc,yc,r)\n",
    "if IsPointInCircle (x, y, xc, yc, r):\n",
    "    print(\"YES\")\n",
    "else:\n",
    "    print(\"NO\")"
   ]
  },
  {
   "cell_type": "markdown",
   "metadata": {},
   "source": [
    "## Задача 7"
   ]
  },
  {
   "cell_type": "code",
   "execution_count": null,
   "metadata": {},
   "outputs": [],
   "source": [
    "def IsPointInCircle(x, y):\n",
    "    in_circle = 2 * 2 >= abs(x + 1) * abs(x + 1) + abs(y - 1) * abs(y - 1)\n",
    "    above_line1 = y >= 2 * x + 2\n",
    "    above_line2 = y >= -x\n",
    "    below_line1 = y <= 2 * x + 2\n",
    "    below_line2 = y <= -x\n",
    "    on_circle = 2 * 2 == abs(x + 1) * abs(x + 1) + abs(y - 1) * abs(y - 1)\n",
    "    return in_circle and above_line1 and above_line2 and (on_circle or not in_circle) and below_line1 and below_line2\n",
    "\n",
    "x, y = int(input()), int(input())\n",
    "if (IsPointInArea(x, y)) \n",
    "    print('YES')\n",
    "else:\n",
    "    print('NO')"
   ]
  },
  {
   "cell_type": "markdown",
   "metadata": {},
   "source": [
    "## Задача 8"
   ]
  },
  {
   "cell_type": "code",
   "execution_count": 2,
   "metadata": {},
   "outputs": [
    {
     "name": "stdout",
     "output_type": "stream",
     "text": [
      "0\n",
      "0\n",
      "0\n"
     ]
    }
   ],
   "source": [
    "def xor(x, y):\n",
    "    return x != y\n",
    "x, y = int(input()), int(input())\n",
    "print(int(xor(1, 1)))"
   ]
  },
  {
   "cell_type": "markdown",
   "metadata": {},
   "source": [
    "## Задача 9"
   ]
  },
  {
   "cell_type": "code",
   "execution_count": 3,
   "metadata": {},
   "outputs": [
    {
     "name": "stdout",
     "output_type": "stream",
     "text": [
      "4\n",
      "2\n"
     ]
    }
   ],
   "source": [
    "def MinDivisor(n):\n",
    "    for i in range(2, int(n ** 0.5) + 1):\n",
    "        if n % i == 0:\n",
    "            return i\n",
    "    return n\n",
    " \n",
    "n = int(input())\n",
    "print(MinDivisor(n))"
   ]
  },
  {
   "cell_type": "markdown",
   "metadata": {},
   "source": [
    "## Задача 10"
   ]
  },
  {
   "cell_type": "code",
   "execution_count": 8,
   "metadata": {},
   "outputs": [
    {
     "name": "stdout",
     "output_type": "stream",
     "text": [
      "2\n",
      "YES\n"
     ]
    }
   ],
   "source": [
    "def isPrime(n):\n",
    "    for i in range(2, int(n ** 0.5) +1):\n",
    "        if(n%i==0):\n",
    "            return False;\n",
    "            return True;\n",
    "n = int(input())\n",
    "if isPrime(n):\n",
    "    print('NO')\n",
    "else:\n",
    "    print('YES')"
   ]
  },
  {
   "cell_type": "markdown",
   "metadata": {},
   "source": [
    "## Задача 11"
   ]
  },
  {
   "cell_type": "code",
   "execution_count": 8,
   "metadata": {},
   "outputs": [
    {
     "name": "stdout",
     "output_type": "stream",
     "text": [
      "2\n",
      "3\n",
      "8\n"
     ]
    }
   ],
   "source": [
    "def power(a, n):\n",
    "    if n == 0:\n",
    "        return 1\n",
    "    else:\n",
    "        return a * power(a, n - 1)\n",
    " \n",
    "print(power(int(input()), int(input())))"
   ]
  },
  {
   "cell_type": "markdown",
   "metadata": {},
   "source": [
    "## Задача 12"
   ]
  },
  {
   "cell_type": "code",
   "execution_count": 3,
   "metadata": {},
   "outputs": [
    {
     "name": "stdout",
     "output_type": "stream",
     "text": [
      "2\n",
      "1\n",
      "2\n"
     ]
    }
   ],
   "source": [
    "def power(a, n):\n",
    "    res = 1\n",
    "    for i in range(abs(n)):\n",
    "        res *= a\n",
    "    if n >= 0:\n",
    "        return res\n",
    "    else:\n",
    "        return 1 / res\n",
    " \n",
    "print(power(int(input()), int(input())))"
   ]
  },
  {
   "cell_type": "markdown",
   "metadata": {},
   "source": [
    "## Задача 13"
   ]
  },
  {
   "cell_type": "code",
   "execution_count": 9,
   "metadata": {},
   "outputs": [
    {
     "name": "stdout",
     "output_type": "stream",
     "text": [
      "2\n",
      "2\n",
      "4\n"
     ]
    }
   ],
   "source": [
    "def summa(a, b):\n",
    "    if a == 0:\n",
    "        return b;\n",
    "    return summa(a-1, b+1)\n",
    "a, b = int(input()), int(input())\n",
    "print(summa(a, b))"
   ]
  },
  {
   "cell_type": "markdown",
   "metadata": {},
   "source": [
    "## Задача 14"
   ]
  },
  {
   "cell_type": "code",
   "execution_count": 5,
   "metadata": {},
   "outputs": [
    {
     "name": "stdout",
     "output_type": "stream",
     "text": [
      "2\n",
      "1\n",
      "2\n"
     ]
    }
   ],
   "source": [
    "def power(a, n):\n",
    "    if n == 0:\n",
    "        return 1\n",
    "    elif n == 1:\n",
    "        return a\n",
    "    elif n % 2 != 0:\n",
    "        return a * power(a, n-1)\n",
    "    elif n % 2 == 0:\n",
    "        return power(a*a, n/2)\n",
    " \n",
    " \n",
    "a = int(input())\n",
    "n = int(input())\n",
    "print(power(a, n))"
   ]
  },
  {
   "cell_type": "markdown",
   "metadata": {},
   "source": [
    "## Задача 15"
   ]
  },
  {
   "cell_type": "code",
   "execution_count": 6,
   "metadata": {},
   "outputs": [
    {
     "name": "stdout",
     "output_type": "stream",
     "text": [
      "1\n",
      "1\n",
      "1\n"
     ]
    }
   ],
   "source": [
    "def gcd(a,b):\n",
    "    if (b > a):\n",
    "        return gcd(b,a)\n",
    "    r=a%b\n",
    "    if (r==0):\n",
    "        return b\n",
    "    else:\n",
    "        return gcd(b,r)\n",
    "        \n",
    "x = int(input())\n",
    "y = int(input())\n",
    "print(gcd(x,y))"
   ]
  },
  {
   "cell_type": "markdown",
   "metadata": {},
   "source": [
    "## Задача 16"
   ]
  },
  {
   "cell_type": "code",
   "execution_count": 8,
   "metadata": {},
   "outputs": [
    {
     "name": "stdout",
     "output_type": "stream",
     "text": [
      "12\n",
      "16\n"
     ]
    },
    {
     "data": {
      "text/plain": [
       "(3, 4)"
      ]
     },
     "execution_count": 8,
     "metadata": {},
     "output_type": "execute_result"
    }
   ],
   "source": [
    "def ReduceFraction(n, m):\n",
    "    p1 = max(n, m)\n",
    "    p2 = min(n, m)\n",
    "    if p1 == p2 and p1 * p2 != 0:\n",
    "        return 1, 1\n",
    "    else:\n",
    "        p = p1 % p2\n",
    "    while p>0:\n",
    "        p1 = p2\n",
    "        p2 = p\n",
    "        p = p1 % p2\n",
    "        return n // p2, m // p2\n",
    "\n",
    "n = int(input())\n",
    "m = int(input())\n",
    "ReduceFraction(n, m)"
   ]
  },
  {
   "cell_type": "markdown",
   "metadata": {},
   "source": [
    "## Задача 17"
   ]
  },
  {
   "cell_type": "code",
   "execution_count": 1,
   "metadata": {},
   "outputs": [
    {
     "name": "stdout",
     "output_type": "stream",
     "text": [
      "1\n",
      "1\n"
     ]
    }
   ],
   "source": [
    "def fib(n):\n",
    "    if n == 1 or n == 2:\n",
    "        return 1\n",
    "    else:\n",
    "        return fib(n - 1) + fib(n - 2)\n",
    " \n",
    "print(fib(int(input())))"
   ]
  },
  {
   "cell_type": "markdown",
   "metadata": {},
   "source": [
    "## Задача 18"
   ]
  },
  {
   "cell_type": "code",
   "execution_count": 21,
   "metadata": {},
   "outputs": [
    {
     "name": "stdout",
     "output_type": "stream",
     "text": [
      "4\n",
      "2\n"
     ]
    },
    {
     "data": {
      "text/plain": [
       "6"
      ]
     },
     "execution_count": 21,
     "metadata": {},
     "output_type": "execute_result"
    }
   ],
   "source": [
    "def c(n, k):\n",
    "    if k == n or k == 0:\n",
    "        return 1\n",
    "    return c(n-1, k) + c(n-1, k-1)\n",
    "    \n",
    "n, k = int(input()), int(input())\n",
    "c(n, k)"
   ]
  },
  {
   "cell_type": "markdown",
   "metadata": {},
   "source": [
    "## Задача 19"
   ]
  },
  {
   "cell_type": "code",
   "execution_count": 7,
   "metadata": {},
   "outputs": [
    {
     "name": "stdout",
     "output_type": "stream",
     "text": [
      "1\n",
      "7\n",
      "9\n",
      "0\n",
      "17\n"
     ]
    }
   ],
   "source": [
    "def sum(summary=0):\n",
    "    num = -1\n",
    "    try:\n",
    "        num = int(input())\n",
    "    except ValueError as err:\n",
    "        print(err)\n",
    "        print('Enter the number') \n",
    "    else:\n",
    "        summary += num\n",
    "    if num != 0:\n",
    "        return sum(summary)\n",
    "    return summary\n",
    "    \n",
    "print(sum())"
   ]
  },
  {
   "cell_type": "markdown",
   "metadata": {},
   "source": [
    "## Задача 20"
   ]
  },
  {
   "cell_type": "code",
   "execution_count": 9,
   "metadata": {},
   "outputs": [
    {
     "name": "stdout",
     "output_type": "stream",
     "text": [
      "1\n",
      "2\n",
      "3\n",
      "0\n",
      "0\n",
      "3\n",
      "2\n",
      "1\n"
     ]
    }
   ],
   "source": [
    "def reverse():\n",
    "    x = int(input())\n",
    "    if x != 0:\n",
    "        reverse()\n",
    "    print(x)\n",
    " \n",
    "reverse()"
   ]
  },
  {
   "cell_type": "markdown",
   "metadata": {},
   "source": [
    "## Задача 21"
   ]
  },
  {
   "cell_type": "code",
   "execution_count": 11,
   "metadata": {},
   "outputs": [
    {
     "name": "stdout",
     "output_type": "stream",
     "text": [
      "2\n",
      "1 1 2\n",
      "2 1 3\n",
      "1 2 3\n"
     ]
    }
   ],
   "source": [
    "def h(n, x, y):\n",
    "    if n == 1:\n",
    "        print(1, x, y)\n",
    "    else:\n",
    "        h(n-1, x, 6-x-y)\n",
    "        print(n, x, y)\n",
    "        h(n-1, 6-x-y, y)\n",
    " \n",
    "n = int(input())\n",
    "h(n, 1, 3)"
   ]
  },
  {
   "cell_type": "markdown",
   "metadata": {},
   "source": [
    "## Задача 22"
   ]
  },
  {
   "cell_type": "code",
   "execution_count": 4,
   "metadata": {},
   "outputs": [
    {
     "name": "stdout",
     "output_type": "stream",
     "text": [
      "4\n",
      "2\n"
     ]
    }
   ],
   "source": [
    "def lagrange(n):\n",
    "    for i in range(4):\n",
    "        s = int(n ** 0.5)\n",
    "        n = n - s ** 2\n",
    "        if s != 0:\n",
    "            print(s)\n",
    "n = int(input())\n",
    "lagrange(n)"
   ]
  },
  {
   "cell_type": "markdown",
   "metadata": {},
   "source": [
    "## Задача 23"
   ]
  },
  {
   "cell_type": "code",
   "execution_count": 28,
   "metadata": {},
   "outputs": [
    {
     "name": "stdout",
     "output_type": "stream",
     "text": [
      "5\n",
      "1 1 1 1 1\n"
     ]
    }
   ],
   "source": [
    "from math import *\n",
    " \n",
    " \n",
    "def solve(n, a, t):\n",
    "    c = n\n",
    "    d = t\n",
    "    while c > 0:\n",
    "        if d > 0:\n",
    "            x = trunc(float('{0:.11f}'.format((c ** (1 / 3))))) - 1\n",
    "            d -= 1\n",
    "        else:\n",
    "            x = trunc(float('{0:.11f}'.format((c ** (1 / 3)))))\n",
    "        if x <= 1:\n",
    "            x = trunc(float('{0:.11f}'.format((c ** (1 / 3)))))\n",
    "        if d > x:\n",
    "            print(0)\n",
    "            exit(0)\n",
    "        a.append(x ** 3)\n",
    "        c -= x ** 3\n",
    "        if len(a) > 7:\n",
    "            a.clear()\n",
    "            solve(n, a, t + 1)\n",
    "    print(*a)\n",
    "    exit(0)\n",
    " \n",
    " \n",
    "a = []\n",
    "n = int(input())\n",
    "t = 0\n",
    "solve(n, a, t)"
   ]
  },
  {
   "cell_type": "markdown",
   "metadata": {},
   "source": [
    "## Задача 24"
   ]
  },
  {
   "cell_type": "code",
   "execution_count": 24,
   "metadata": {},
   "outputs": [
    {
     "name": "stdout",
     "output_type": "stream",
     "text": [
      "1\n",
      "2\n",
      "3\n",
      "4\n",
      "0\n",
      "4 1 "
     ]
    }
   ],
   "source": [
    "def sqr():\n",
    "    n = int(input())\n",
    "    if n != 0:\n",
    "        sqr()\n",
    "        if (n ** (1 / 2)).is_integer():\n",
    "            global t\n",
    "            t = 0\n",
    "            print(n, end=' ')\n",
    "t = 1\n",
    "sqr()\n",
    "if t:\n",
    "    print(0)"
   ]
  },
  {
   "cell_type": "code",
   "execution_count": null,
   "metadata": {},
   "outputs": [],
   "source": []
  }
 ],
 "metadata": {
  "kernelspec": {
   "display_name": "Python 3",
   "language": "python",
   "name": "python3"
  },
  "language_info": {
   "codemirror_mode": {
    "name": "ipython",
    "version": 3
   },
   "file_extension": ".py",
   "mimetype": "text/x-python",
   "name": "python",
   "nbconvert_exporter": "python",
   "pygments_lexer": "ipython3",
   "version": "3.7.4"
  }
 },
 "nbformat": 4,
 "nbformat_minor": 4
}
